{
 "cells": [
  {
   "cell_type": "code",
   "execution_count": 5,
   "id": "d207d5df-c241-41b1-a3d8-a34f325cdf0e",
   "metadata": {},
   "outputs": [],
   "source": [
    "import requests\n",
    "from bs4 import BeautifulSoup as bs\n",
    "import pandas as pd"
   ]
  },
  {
   "cell_type": "code",
   "execution_count": 6,
   "id": "a8b409e2-47a4-4036-b9f6-5cf4862c9b07",
   "metadata": {},
   "outputs": [],
   "source": [
    "def get_pagenum(url):\n",
    "    req = requests.get(url)\n",
    "    bsoup = bs(req.content, 'html.parser')\n",
    "    pages = []\n",
    "    page_num = bsoup.find('div', {'id': 'searchCountPages'}).text.strip()\n",
    "    for num in page_num.split():\n",
    "        if num.isdigit():\n",
    "            pages.append(num)\n",
    "    return int(pages[1])"
   ]
  },
  {
   "cell_type": "code",
   "execution_count": 7,
   "id": "87ac54ff-8d1e-4bf4-b482-a2e6373b2820",
   "metadata": {},
   "outputs": [],
   "source": [
    "def get_html():\n",
    "    header = {'User-Agent': 'Mozilla/5.0 (Macintosh; Intel Mac OS X 10_15_7) AppleWebKit/537.36 (KHTML, like Gecko) Chrome/101.0.4951.41 Safari/537.36'}\n",
    "    url = f'https://www.indeed.com/jobs?q=data%20analyst%20entry%20level&l=remote&start=0&vjk=ff725c70949a666a'\n",
    "    r = requests.get(url, header)\n",
    "    soup = bs(r.content, 'html.parser')\n",
    "    return soup\n",
    "    "
   ]
  },
  {
   "cell_type": "code",
   "execution_count": 12,
   "id": "5ddc8015-45d5-4155-a93b-2c64e39676c5",
   "metadata": {},
   "outputs": [],
   "source": [
    "def get_data(soup):\n",
    "    divs = soup.find_all('div', class_='job_seen_beacon')\n",
    "    for item in divs:\n",
    "        title = item.find('h2').text.strip()\n",
    "        company = item.find('span', class_='companyName').text.strip()\n",
    "        try:\n",
    "            salary = item.find('div', class_='attribute_snippet').text.strip()\n",
    "        except:\n",
    "            salary = ''\n",
    "        summary = item.find('div', class_='job-snippet').text.strip().replace('\\n', ' ')\n",
    "        job = {'title': title, 'company': company, 'salary': salary, 'summary': summary}\n",
    "        jobs.append(job)\n",
    "    return"
   ]
  },
  {
   "cell_type": "code",
   "execution_count": 17,
   "id": "41eb4b2f-4731-49dd-97ea-a1a4d54cbc53",
   "metadata": {},
   "outputs": [
    {
     "data": {
      "text/plain": [
       "105"
      ]
     },
     "execution_count": 17,
     "metadata": {},
     "output_type": "execute_result"
    }
   ],
   "source": [
    "url = 'https://www.indeed.com/jobs?q=data%20analyst%20entry%20level&l=remote&start=0&vjk=ff725c70949a666a'\n",
    "page = get_pagenum(url)\n",
    "jobs = []\n",
    "for i in range(0, page, 10):\n",
    "    soup = get_html()\n",
    "    get_data(soup)\n",
    "data = pd.DataFrame(jobs)\n",
    "data.to_csv('indeed_jobs.csv')\n",
    "len(jobs)"
   ]
  },
  {
   "cell_type": "code",
   "execution_count": 16,
   "id": "35ce4e20-ec68-4152-97e3-1011d2f4579e",
   "metadata": {},
   "outputs": [
    {
     "data": {
      "text/html": [
       "<div>\n",
       "<style scoped>\n",
       "    .dataframe tbody tr th:only-of-type {\n",
       "        vertical-align: middle;\n",
       "    }\n",
       "\n",
       "    .dataframe tbody tr th {\n",
       "        vertical-align: top;\n",
       "    }\n",
       "\n",
       "    .dataframe thead th {\n",
       "        text-align: right;\n",
       "    }\n",
       "</style>\n",
       "<table border=\"1\" class=\"dataframe\">\n",
       "  <thead>\n",
       "    <tr style=\"text-align: right;\">\n",
       "      <th></th>\n",
       "      <th>title</th>\n",
       "      <th>company</th>\n",
       "      <th>salary</th>\n",
       "      <th>summary</th>\n",
       "    </tr>\n",
       "  </thead>\n",
       "  <tbody>\n",
       "    <tr>\n",
       "      <th>0</th>\n",
       "      <td>Business/Data Analyst (Entry Level)</td>\n",
       "      <td>Agama Solutions</td>\n",
       "      <td>$30 an hour</td>\n",
       "      <td>Role: Business/Data Analyst (Entry Level). 1+ ...</td>\n",
       "    </tr>\n",
       "    <tr>\n",
       "      <th>1</th>\n",
       "      <td>newBusiness Analyst (Entry Level)</td>\n",
       "      <td>Agama Solutions</td>\n",
       "      <td>$30 - $35 an hour</td>\n",
       "      <td>Troubleshoot data issues by validating differe...</td>\n",
       "    </tr>\n",
       "    <tr>\n",
       "      <th>2</th>\n",
       "      <td>Talent Development Data Analyst</td>\n",
       "      <td>Southern New Hampshire University</td>\n",
       "      <td>Full-time</td>\n",
       "      <td>Lead the descriptive analytics for all Talent ...</td>\n",
       "    </tr>\n",
       "    <tr>\n",
       "      <th>3</th>\n",
       "      <td>Jr. Business Analyst</td>\n",
       "      <td>Kajeet</td>\n",
       "      <td>Full-time</td>\n",
       "      <td>They need to be able to pull relevant data fro...</td>\n",
       "    </tr>\n",
       "    <tr>\n",
       "      <th>4</th>\n",
       "      <td>newData Solutions Analyst, US Analytics</td>\n",
       "      <td>Liberty Mutual Insurance</td>\n",
       "      <td>$70,000 - $100,000 a year</td>\n",
       "      <td>Ensures data solutions include deliverables re...</td>\n",
       "    </tr>\n",
       "  </tbody>\n",
       "</table>\n",
       "</div>"
      ],
      "text/plain": [
       "                                     title                            company  \\\n",
       "0      Business/Data Analyst (Entry Level)                    Agama Solutions   \n",
       "1        newBusiness Analyst (Entry Level)                    Agama Solutions   \n",
       "2          Talent Development Data Analyst  Southern New Hampshire University   \n",
       "3                     Jr. Business Analyst                             Kajeet   \n",
       "4  newData Solutions Analyst, US Analytics           Liberty Mutual Insurance   \n",
       "\n",
       "                      salary  \\\n",
       "0                $30 an hour   \n",
       "1          $30 - $35 an hour   \n",
       "2                  Full-time   \n",
       "3                  Full-time   \n",
       "4  $70,000 - $100,000 a year   \n",
       "\n",
       "                                             summary  \n",
       "0  Role: Business/Data Analyst (Entry Level). 1+ ...  \n",
       "1  Troubleshoot data issues by validating differe...  \n",
       "2  Lead the descriptive analytics for all Talent ...  \n",
       "3  They need to be able to pull relevant data fro...  \n",
       "4  Ensures data solutions include deliverables re...  "
      ]
     },
     "execution_count": 16,
     "metadata": {},
     "output_type": "execute_result"
    }
   ],
   "source": [
    "data.head()"
   ]
  },
  {
   "cell_type": "code",
   "execution_count": null,
   "id": "3bae534e-b4d7-4e9e-9461-7ccaa6e149ad",
   "metadata": {},
   "outputs": [],
   "source": []
  }
 ],
 "metadata": {
  "kernelspec": {
   "display_name": "Python 3 (ipykernel)",
   "language": "python",
   "name": "python3"
  },
  "language_info": {
   "codemirror_mode": {
    "name": "ipython",
    "version": 3
   },
   "file_extension": ".py",
   "mimetype": "text/x-python",
   "name": "python",
   "nbconvert_exporter": "python",
   "pygments_lexer": "ipython3",
   "version": "3.10.1"
  }
 },
 "nbformat": 4,
 "nbformat_minor": 5
}
